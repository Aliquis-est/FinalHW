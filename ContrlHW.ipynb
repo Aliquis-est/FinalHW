{
 "cells": [
  {
   "cell_type": "markdown",
   "metadata": {},
   "source": [
    "# Итоговая аттестация. Часть 2\n"
   ]
  },
  {
   "cell_type": "markdown",
   "metadata": {},
   "source": [
    "## Задача 1\n",
    "\n",
    "Подведите результаты эксперимента в экселе по следующим данным: ab_stats.csv\n",
    "Стат значимо ли отличается ARPPU в двух группах ? Какие рекомендации дадите менеджеру?"
   ]
  },
  {
   "cell_type": "markdown",
   "metadata": {},
   "source": [
    "_Примечание. ARPPU — это доход на одного платящего пользователя._"
   ]
  },
  {
   "cell_type": "code",
   "execution_count": 1,
   "metadata": {},
   "outputs": [
    {
     "data": {
      "text/html": [
       "<div>\n",
       "<style scoped>\n",
       "    .dataframe tbody tr th:only-of-type {\n",
       "        vertical-align: middle;\n",
       "    }\n",
       "\n",
       "    .dataframe tbody tr th {\n",
       "        vertical-align: top;\n",
       "    }\n",
       "\n",
       "    .dataframe thead th {\n",
       "        text-align: right;\n",
       "    }\n",
       "</style>\n",
       "<table border=\"1\" class=\"dataframe\">\n",
       "  <thead>\n",
       "    <tr style=\"text-align: right;\">\n",
       "      <th></th>\n",
       "      <th>revenue</th>\n",
       "      <th>num_purchases</th>\n",
       "      <th>purchase</th>\n",
       "      <th>ab_group</th>\n",
       "      <th>av_site visit</th>\n",
       "    </tr>\n",
       "  </thead>\n",
       "  <tbody>\n",
       "    <tr>\n",
       "      <th>0</th>\n",
       "      <td>0.0</td>\n",
       "      <td>0</td>\n",
       "      <td>0</td>\n",
       "      <td>A</td>\n",
       "      <td>9.040174</td>\n",
       "    </tr>\n",
       "    <tr>\n",
       "      <th>1</th>\n",
       "      <td>0.0</td>\n",
       "      <td>0</td>\n",
       "      <td>0</td>\n",
       "      <td>A</td>\n",
       "      <td>4.811628</td>\n",
       "    </tr>\n",
       "    <tr>\n",
       "      <th>2</th>\n",
       "      <td>0.0</td>\n",
       "      <td>0</td>\n",
       "      <td>0</td>\n",
       "      <td>A</td>\n",
       "      <td>7.342623</td>\n",
       "    </tr>\n",
       "    <tr>\n",
       "      <th>3</th>\n",
       "      <td>0.0</td>\n",
       "      <td>0</td>\n",
       "      <td>0</td>\n",
       "      <td>A</td>\n",
       "      <td>7.744581</td>\n",
       "    </tr>\n",
       "    <tr>\n",
       "      <th>4</th>\n",
       "      <td>0.0</td>\n",
       "      <td>0</td>\n",
       "      <td>0</td>\n",
       "      <td>A</td>\n",
       "      <td>10.511814</td>\n",
       "    </tr>\n",
       "  </tbody>\n",
       "</table>\n",
       "</div>"
      ],
      "text/plain": [
       "   revenue  num_purchases  purchase ab_group  av_site visit\n",
       "0      0.0              0         0        A       9.040174\n",
       "1      0.0              0         0        A       4.811628\n",
       "2      0.0              0         0        A       7.342623\n",
       "3      0.0              0         0        A       7.744581\n",
       "4      0.0              0         0        A      10.511814"
      ]
     },
     "execution_count": 1,
     "metadata": {},
     "output_type": "execute_result"
    }
   ],
   "source": [
    "import pandas as pd\n",
    "\n",
    "data = pd.read_csv('ab_stats.csv')\n",
    "data.head()"
   ]
  },
  {
   "cell_type": "code",
   "execution_count": 2,
   "metadata": {},
   "outputs": [
    {
     "data": {
      "text/plain": [
       "(18.698468640625, 12.36211875641025)"
      ]
     },
     "execution_count": 2,
     "metadata": {},
     "output_type": "execute_result"
    }
   ],
   "source": [
    "# Рассчитываем ARPPU для каждой группы, отделяя только заплативших пользователей\n",
    "\n",
    "users_A = data[(data['ab_group'] == 'A') & (data['num_purchases'] > 0)]\n",
    "users_B = data[(data['ab_group'] == 'B') & (data['num_purchases'] > 0)]\n",
    "\n",
    "# Доход по группам\n",
    "revenue_result_A = users_A['revenue'].sum()\n",
    "revenue_result_B = users_B['revenue'].sum()\n",
    "\n",
    "# Кол-во пользователей\n",
    "count_users_A = len(users_A)\n",
    "count_users_B = len(users_B)\n",
    "\n",
    "# Рассчитываем ARPPU по формуле\n",
    "ARPPU_A = revenue_result_A / count_users_A if count_users_A > 0 else 0\n",
    "ARPPU_B = revenue_result_B / count_users_B if count_users_B > 0 else 0\n",
    "\n",
    "ARPPU_A, ARPPU_B"
   ]
  },
  {
   "cell_type": "markdown",
   "metadata": {},
   "source": [
    "ARPPU для группы A - 18.70, для группы B - 12.36 при округлении."
   ]
  },
  {
   "cell_type": "markdown",
   "metadata": {},
   "source": [
    "Применим U-тест Манна-Уитни чтобы сравнить медианы двух групп и определить, есть ли статистически значимые различия между ними."
   ]
  },
  {
   "cell_type": "code",
   "execution_count": 3,
   "metadata": {},
   "outputs": [
    {
     "data": {
      "text/plain": [
       "0.8871956616344514"
      ]
     },
     "execution_count": 3,
     "metadata": {},
     "output_type": "execute_result"
    }
   ],
   "source": [
    "from scipy.stats import mannwhitneyu\n",
    "\n",
    "# Perform Mann-Whitney U test\n",
    "stat, p_value = mannwhitneyu(users_A['revenue'], users_B['revenue'], alternative='two-sided')\n",
    "\n",
    "p_value"
   ]
  },
  {
   "cell_type": "markdown",
   "metadata": {},
   "source": [
    "P-значение, полученное в результате теста, составляет примерно 0.89 при принятом среднем значении 0.05. Это значит, что мы не можем отклонить гипотезу о том, что распределения доходов в группах A и B не отличаются.\n",
    "Можем сделать вывод, что отличия не являются статистически значимыми.\n",
    "\n",
    "Рекомендации менеджеру:\n",
    "1. Выбрать дополнительные метрики и исследования для принятия решений.\n",
    "2. Не принимать решений только на основании текущего теста, т.к. результаты не оказались статистически важными.\n"
   ]
  },
  {
   "cell_type": "markdown",
   "metadata": {},
   "source": [
    "## Задание 2\n"
   ]
  },
  {
   "cell_type": "markdown",
   "metadata": {},
   "source": [
    "Мы хотим провести А/Б-тест для трех источников трафика. Нынешняя конверсия равна 5%, мы ожидаем прирост в 0,2%.\n",
    "Уровень доверия 97% и уровень мощности 87%. Всего на наш продукт заходит 40 000 пользователей в месяц.\n",
    "\n",
    "* Задание 2.1: За сколько дней мы сможем протестировать гипотезу? И что вы можете посоветовать по\n",
    "результатам подсчета?\n",
    "* Задание 2.2: Допустим в задаче нет проблемы с количеством посетителей на сайт, тогда подведите\n",
    "результаты тестирования, если у нас следующие результаты по количеству конверсии:\n",
    "1) 25 000\n",
    "2) 30 000\n",
    "3) 32 000\n"
   ]
  },
  {
   "cell_type": "markdown",
   "metadata": {},
   "source": [
    "### Задание 2.1\n",
    "Для решения используем формулу для расчета размера выборки на каждую группу:\n",
    "\n",
    "$$\n",
    "n = \\left( \\frac{{Z_{\\alpha/2} \\cdot \\sqrt{{2 \\cdot p \\cdot (1 - p)}} + Z_{\\beta} \\cdot \\sqrt{{p_1 \\cdot (1 - p_1) + p_2 \\cdot (1 - p_2)}}}}{{p_2 - p_1}} \\right)^2\n",
    "$$\n",
    "\n",
    "где:\n",
    "\n",
    "- $n$ — размер выборки на каждую группу,\n",
    "- $Z_{\\alpha/2}$ — уровень доверия,\n",
    "- $Z_{\\beta}$ — мощность теста,\n",
    "- $p$ — базовая конверсия,\n",
    "- $p_1$ — старая конверсия (равна $p$),\n",
    "- $p_2$ — новая конверсия (равна $p + \\Delta p$), где $\\Delta p$ — ожидаемое изменение конверсии.\n",
    "\n",
    " $\\alpha = 1 - 0.97 = 0.03$ и $Z_{\\alpha/2}$ равен z-значению, соответствующему вероятности $1 - \\alpha/2 = 0.985$.\n",
    "\n",
    "$Z_{\\beta}$ равен z-значению $0.87$.\n",
    "\n",
    "$p = 0.05$, $\\Delta p = 0.002$, $p_1 = 0.05$ и $p_2 = 0.052$.\n",
    "\n",
    "С учетом трех источников трафика итоговый результат умножаем на 3."
   ]
  },
  {
   "cell_type": "code",
   "execution_count": 4,
   "metadata": {},
   "outputs": [
    {
     "data": {
      "text/plain": [
       "584.4337327495709"
      ]
     },
     "execution_count": 4,
     "metadata": {},
     "output_type": "execute_result"
    }
   ],
   "source": [
    "import math\n",
    "import scipy.stats as stats\n",
    "\n",
    "# Определяем основные переменные для расчета формулы\n",
    "alpha = 0.03\n",
    "Z_alpha = stats.norm.ppf(1 - alpha / 2)\n",
    "power = 0.87\n",
    "Z_beta = stats.norm.ppf(power)\n",
    "p = 0.05\n",
    "delta_p = 0.002\n",
    "p1 = p\n",
    "p2 = p + delta_p\n",
    "\n",
    "# Подсавляем значения в формулу\n",
    "n_group = (Z_alpha * math.sqrt(2 * p * (1 - p)) + Z_beta * math.sqrt(p1 * (1 - p1) + p2 * (1 - p2)))**2 / (p2 - p1)**2\n",
    "# Общий размер выборки умножаем на 3, т.к. у нас 3 источника\n",
    "n_total = 3 * n_group\n",
    "\n",
    "# Кол-во пользователей в месяц\n",
    "users_per_month = 40000\n",
    "days = n_total / users_per_month * 30\n",
    "\n",
    "days"
   ]
  },
  {
   "cell_type": "markdown",
   "metadata": {},
   "source": [
    "В результате мы получили, что потребуется более 584 дней для поверки гипотезы, это слишком долго (значительно больше месяца).\n",
    "Я советую пересмотреть данные для проведения или выбрать другой способ исследования."
   ]
  },
  {
   "cell_type": "markdown",
   "metadata": {},
   "source": [
    "### Задание 2.2"
   ]
  },
  {
   "cell_type": "code",
   "execution_count": 5,
   "metadata": {},
   "outputs": [
    {
     "data": {
      "text/plain": [
       "[(32.010529716729984, 0.0, True),\n",
       " (42.83885586070758, 0.0, True),\n",
       " (46.897099934237474, 0.0, True)]"
      ]
     },
     "execution_count": 5,
     "metadata": {},
     "output_type": "execute_result"
    }
   ],
   "source": [
    "# Результаты тестирования для заданных значений конверсии\n",
    "conversions = [25000, 30000, 32000]\n",
    "test_results = []\n",
    "\n",
    "for conversion in conversions:\n",
    "    # Успешные попытки в группах\n",
    "    success_control = round(n_group * p1)\n",
    "    success_test = conversion\n",
    "\n",
    "    # Провальные попытки в группах\n",
    "    failure_control = n_group - success_control\n",
    "    failure_test = n_group - success_test\n",
    "\n",
    "    # Общее количество попыток\n",
    "    success_total = success_control + success_test\n",
    "    failure_total = failure_control + failure_test\n",
    "\n",
    "    total = 2 * n_group\n",
    "\n",
    "    # Ожидаемый процент\n",
    "    prop_control = success_total / total\n",
    "    prop_test = success_test / n_group\n",
    "\n",
    "    # Z-статистика\n",
    "    z = (prop_test - prop_control) / math.sqrt(prop_control * (1 - prop_control) * (1 / n_group + 1 / n_group))\n",
    "    p_value = 1 - stats.norm.cdf(z)\n",
    "\n",
    "    # Результат теста\n",
    "    reject_null = p_value < alpha\n",
    "    test_results.append((z, p_value, reject_null))\n",
    "\n",
    "test_results"
   ]
  },
  {
   "cell_type": "markdown",
   "metadata": {},
   "source": [
    "Конверсии не равны, т.к. z-статистика по результатам превышает критическое значение. Новая конверсия значительно отличается от старой. "
   ]
  },
  {
   "cell_type": "markdown",
   "metadata": {},
   "source": [
    "## Задание 3\n"
   ]
  },
  {
   "cell_type": "markdown",
   "metadata": {},
   "source": [
    "Вы решили сравнивать метрику CPA в двух группах. Размер выборки - 2350 элементов в каждой группе.\n",
    "Для проверки нормальности распределения на выборке в 2350 наблюдений применили критерий Шапиро-Уилка и получили p-value, равный 0.00002, alpha = 5%.\n",
    "\n",
    "Какой бы вывод мы могли сделать в данном случае?\n",
    "\n",
    "В этом случае какой статистический критерий для проверки первоначальной гипотезы тут лучше всего подойдёт и почему?"
   ]
  },
  {
   "cell_type": "markdown",
   "metadata": {},
   "source": [
    "### Ответ\n",
    "\n",
    "При применении критерия  Шапиро-Уилка если p-value меньше уровня значимости (alpha), то нулевая гипотеза о том, что данные подчиняются нормальному распределению, отвергается. Исходя из представленых значений мы отклоняем гипотезу о нормальном распределении. (0,00002 < 0,05).\n",
    "\n",
    "\n",
    "Можно взять критерий Манна-Уитни. Он может быть использован для независимых выборок. Для неравномерно распределенных данных этот критерий подходит лучше остальных."
   ]
  },
  {
   "cell_type": "markdown",
   "metadata": {},
   "source": [
    "## Задание 4\n",
    "\n",
    "Мы провели АБ-тест на увеличение average timespent per user. По итогам тестирования мы получили следующие данные. Является ли результат статистически значимым с уровнем\n",
    "доверия 80%? Какую версию мы выкатим на продакшн?\n",
    "\n",
    "A. Средняя - 360, отклонение - 40, количество - 9802\n",
    "\n",
    "B. Средняя - 352, отклонение - 58, количество - 9789"
   ]
  },
  {
   "cell_type": "markdown",
   "metadata": {},
   "source": [
    "## Ответ\n",
    "\n",
    "Предположим, что данные распределены нормально и применим t-тест."
   ]
  },
  {
   "cell_type": "code",
   "execution_count": 6,
   "metadata": {},
   "outputs": [
    {
     "data": {
      "text/plain": [
       "(11.236630785707332, 0.0, True)"
      ]
     },
     "execution_count": 6,
     "metadata": {},
     "output_type": "execute_result"
    }
   ],
   "source": [
    "mean_A = 360\n",
    "std_dev_A = 40\n",
    "num_A = 9802\n",
    "mean_B = 352\n",
    "std_dev_B = 58\n",
    "num_B = 9789\n",
    "\n",
    "# Расчет средней ошибки\n",
    "std_error = math.sqrt(std_dev_A**2 / num_A + std_dev_B**2 / num_B)\n",
    "\n",
    "# t-статистика\n",
    "t_statistic = (mean_A - mean_B) / std_error\n",
    "\n",
    "# Cтепень свободы\n",
    "df = num_A + num_B - 2\n",
    "\n",
    "#  p-значения\n",
    "p_value = (1 - stats.t.cdf(abs(t_statistic), df)) * 2\n",
    "\n",
    "reject_null = p_value < alpha\n",
    "t_statistic, p_value, reject_null"
   ]
  },
  {
   "cell_type": "markdown",
   "metadata": {},
   "source": [
    "Результат опровернвет гипотезу о равенстве средних значений.\n",
    "t-статистика равна 11.24, соответствующее p-значение равно 0, а это меньше уровня значимости $\\alpha = 0.2$. поэтому мы отвергаем нулевую гипотезу о равенстве средних. \n",
    "Различия в среднем времени пользователя статистически значимые.\n",
    "\n",
    "Т.к. значения статистически значимы, на прод отправим вариант А с большим значением."
   ]
  },
  {
   "cell_type": "markdown",
   "metadata": {},
   "source": [
    "## Задание 5\n",
    "\n",
    "Создайте техническую архитектуру проекта по аб тестированию продукта он-лайн кинотеатра\n",
    "с учетом кросс-девайс аналитики по следующей гипотезе:\n",
    "\n",
    "Если договориться с банком о 99% кэшбэке на подписку первого месяца, то это повысит\n",
    "конверсию в подписку на 30%, благодаря упрощенному принятию решения со стороны\n",
    "пользователя.\n",
    "\n",
    "На схеме необходимо отобразить:\n",
    "1. Управленческий процесс по договоренностям с внешними партнерами\n",
    "2. Архитектуру данных с указанием систем, из которых будем скачивать данные\n",
    "3. Внутрикомандное взаимодействие"
   ]
  },
  {
   "attachments": {
    "Договор с банком.drawio.png": {
     "image/png": "[encoded data removed]"
    }
   },
   "cell_type": "markdown",
   "metadata": {},
   "source": [
    "## Ответ\n",
    "\n",
    "1. **Управленческий процесс по договоренностям с внешними партнерами**\n",
    "\n",
    "    1. Отдел по работе с партнерами заключает договор с банком.\n",
    "    2. Когда договор подписан, отдел по работе с партнерами передает информацию в продуктовую команду для разработки и внедреия соответствующего функционала.\n",
    "    3. Продуктовая команда готовит решение с кешбеком на первый месяц подписки.\n",
    "    4. Отдел по работе с партнерами внедряет решение.\n",
    "    5. (Опционально) Отдел маркетинга готовит материалы для продвижения нового решения.(на схеме не указано)\n",
    "\n",
    "![Договор с банком.drawio.png](<attachment:Договор с банком.drawio.png>)\n",
    "\n",
    "2. **Архитектура данных с указанием систем, из которых будем скачивать данные**\n",
    "\n",
    "   - Система управления подписками\n",
    "   - Система мониторинга\n",
    "   - Система управления данными\n",
    "   - Система сбора аналитики\n",
    "\n",
    "3. **Внутрикомандное взаимодействие**\n",
    "\n",
    "   - Отдел по работе с партнерами - выстраивает взаимоотношения и заключат договора с внешним партнера, включая банки. Передает информацию в продуктовую команду.\n",
    "   - Команда управления продуктом - анализирует запросы и предлагает возможные решения. Передает решения в разработку. Также по готовности информирует маркетинг.\n",
    "   - Команда разработки - реализует/настраивает функциональность. Информиует о готовности продуктовую команду.\n",
    "   - Отдел маркетинга - готовит материалы для продвижения. Информирует продуктовую команду.\n",
    "\n"
   ]
  }
 ],
 "metadata": {
  "kernelspec": {
   "display_name": "Python 3",
   "language": "python",
   "name": "python3"
  },
  "language_info": {
   "codemirror_mode": {
    "name": "ipython",
    "version": 3
   },
   "file_extension": ".py",
   "mimetype": "text/x-python",
   "name": "python",
   "nbconvert_exporter": "python",
   "pygments_lexer": "ipython3",
   "version": "3.11.3"
  }
 },
 "nbformat": 4,
 "nbformat_minor": 2
}
